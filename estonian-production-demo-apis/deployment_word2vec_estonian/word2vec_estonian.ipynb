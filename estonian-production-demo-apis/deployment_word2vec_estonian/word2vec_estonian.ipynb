{
 "cells": [
  {
   "cell_type": "code",
   "execution_count": 14,
   "metadata": {},
   "outputs": [
    {
     "name": "stdout",
     "output_type": "stream",
     "text": [
      "﻿Millised on inimese keha rakud?\n",
      "\n",
      "Missugused on inimese põhilised koed?\n",
      "\n",
      "Inimese kehas on väga palju mitmesuguseid rakke, nende üldarv ulatub 50 000 miljardini. Rakud on organismi väikseimad ehitusosad, millel on kõik elu tunnused. Oma ehituselt ja talitluselt on inimese rakud tüüpilised loomsed rakud: need on ümbritsetud membraaniga, erandiks on vaid munarakud, mida katab lisaks ka kest. Rakkude keskne osa on rakutuum, mis sisaldab pärilikkusainet ning juhib rakkude elutegevust ja paljunemist.\n",
      "\n",
      "Üldse on inimesel üle 200 rakutüübi. Ehkki kõikides keha­rakkudes on pärilikkusaine ühesugune, kasutatakse erinevates rakutüüpides erinevat pärilikku infot. Igas rakus on pärilikkus­ainest vaid kuni 10% aktiivne ja sõltuvalt rakutüübist on see aktiivne osa erinev.\n",
      "\n",
      "Igal hetkel sureb meie kehas miljoneid rakke. Neid on vaja pidevalt uutega asendada ning noorel organismil on uusi rakke vaja ka kasvamiseks. Uued rakud moodus­tuvad olemasolevate rakkude jagunemise teel. Rakkude jagunemine on organismi jaoks väga oluline protsess ja see allub keerulistele kontroll­süsteemidele. Olukorras, kus keha rakud hakkavad kontrolli­matult jagunema, moodustub kasvaja.\n",
      "\n",
      "Meie keha rakud uuenevad elu jooksul mitu korda. Kuid on ka mõningaid selliseid, mis pärast inimese sündi ei jagune, näiteks südamelihaskoe rakud.\n",
      "\n",
      "Kõige pikemad rakud inimkehas on närvirakud. Need võivad olla koos jätketega üle ühe meetri pikad (nt ulatuvad seljaaju alaosast suure varbani). Kõige suuremaks rakuks inimkehas on munarakk (umbes 120 mikromeetrit), mis on nähtav isegi palja silmaga. Väga pikk eluiga on aju närvirakkudel, paljud neist elavad sama kaua kui inimene ise. Suhteliselt lühikese elueaga, vaid mõni päev, on soolestiku seinu katvad rakud.\n",
      "\n",
      "Erisugused rakud pole organismis läbisegi, vaid moodustavad koe. Kude on ühetaolise ehituse ja talitlusega rakkude kogum.\n",
      "\n",
      "Kudedel on tavaliselt üks põhiülesanne, näiteks sidekude veri seob organismi eri osad tervikuks (kannab kõigisse kehaosadesse hapnikku ja toitaineid, ühtlustab temperatuuri). Teiselt poolt on koe eri osadel, näiteks vererakkudel, tööjaotus, st nad täidavad eri ülesandeid: vere punased rakud seovad ja transpordivad hapnikku, valged aga osalevad organismi kaitses.\n",
      "\n",
      "Inimesel võib eristada põhiliselt nelja koetüüpi. Need on närvi­kude, lihaskude, sidekude ja epiteelkude.\n",
      "\n",
      "Närvikude moodustab pea- ja seljaaju. Närvikude koosneb tähtja kujuga närvirakkudest. Närvirakud võtavad vastu erutusi (närviimpulsse), analüüsivad neid ja juhivad edasi. Igal närvi­rakul on keha, millel on tavaliselt üks pikk ja mitu lühikest välja­ulatuvat jätket. Närvirakkudest väljuvad pikad jätked ühinevad ja moodustavad närve.\n",
      "\n",
      "Lihaskoe moodustavad kokkutõmbumisvõimelised lihas­rakud ja tänu sellele koele saab organism liikuda. Inimeses on kolme tüüpi lihaskudet.\n",
      "\n",
      "Vöötlihaskude moodustab skeletilihased. See kude koosneb pikkadest ristipidi vöödilistest lihaskiududest, mille rakkudes on palju tuumi. Vöötlihaskude moodustab põhilise osa inimese lihastest. Need lihasrakud tõmbuvad kiiresti kokku ja lõtvuvad vastavalt inimese tahtele ning väsivad kiiresti.\n",
      "\n",
      "Südamelihaskoe rakud meenutavad ehituselt vöötlihaskoe rakke, kuid on omavahel ühendatud. See lihaskude esineb vaid südames. Rakkude kokkutõmbed ning lõtvumised toimu­vad automaatselt ja rütmiliselt inimese tahtest olenemata.\n",
      "\n",
      "Silelihaskude paikneb veresoonte ja siseelundite seintes. Selle rakud on ühe tuumaga. Silelihaskoe rakud tõmbuvad kokku aeglaselt, võivad jääda pikaks ajaks kokkutõmbunuks ja nad ei väsi kiiresti. Nende rakkude kokkutõmme ei allu inimese tahtele.\n",
      "\n",
      "Sidekude seob organismi tervikuks ja moodustab toese. Sidekoe eripäraks on see, et selles on rohkesti rakuvaheainet. Sidekudet on inimese organismis mitut tüüpi.\n",
      "\n",
      "Rasvkude paikneb naha all ja siseelundite ümber. Rasvkoe rakkudes talletuvad varurasvad, samuti kaitseb rasvkude külma eest ja polsterdab mõningaid elundeid.\n",
      "\n",
      "Luukude täidab tugiülesannet ja sellest kujuneb keha toes ehk luustik.\n",
      "\n",
      "Kõhrkude täidab tugiülesannet ja see moodustab osa keha toesest.\n",
      "\n",
      "Veri on eriline sidekude: see on vedel kude, sest selles on väga palju vedelat rakuvaheainet ja suhteliselt vähe rakke. Verel on nii toite- kui ka kaitseülesanne.\n",
      "\n",
      "Epiteelkoe üks ülesanne on kaitseülesanne. Selle rakud paik­nevad tihedalt üksteise kõrval ja moodustavad keha pealis­pinda ning kehaõõnsusi katva kihi. Kuna epiteelkoe rakud on kiire jagunemisvõimega, paranevad pindmised vigastused kiiresti. Epiteelkoest moodustunud näärmed toodavad organismi jaoks vajalikke ühendeid (nt seedimiseks olulisi nõresid mao ja soolte sisepinnal).\n",
      "\n",
      "Elund on mitmest koest koosnev organismi osa, millel on kindel asend, ehitus ja ülesanne. Need moodustuvad erinevatest kudedest. Ühed elundid kaitsevad keha (nahk), teised kindlustavad liikumise (lihased, luud), kolmandad tagavad toidu seedimise (magu, soolestik) jne.\n",
      "\n",
      "Koos ühiseid ülesandeid täitvad elundid moodustavad elundkonna. Elundkonnad moodustavad omakorda orga­nismi kui terviku.\n",
      "\n",
      "Kõikidel elundkondadel on oma ülesanded. Selleks et elund­konnad töötaksid kooskõlastatult, tuleb nende tööd juhtida ja reguleerida. Seda teevad närvisüsteem ja sisenõrenäärmetes toodetud hormoonid. Näiteks reguleerivad need hingamis- ja seede- ning vereringeelundkonna tööd, et varustada keha energiaga.\n",
      "\n",
      "Nahk on elund, mis katab inimese keha. Selle kõige tähtsam ülesanne on kaitsta organismi. Peale selle on inimese nahal veel teisi ülesandeid.\n",
      "\n",
      "Nahk kaitseb organismi väliste vigastuste, ultra­violett­kiirguse, mitmesuguste haigustekitajate sissetungi ja liigse veekaotuse eest.\n",
      "\n",
      "Nahk aitab säilitada kehatemperatuuri. Liigse soojuse äraandmiseks laienevad naha veresooned ja nahka tungib rohkem verd. Seetõttu hajub väliskeskkonda rohkem soojust ning kehatemperatuur langeb. Peale selle aitab keha üle­kuumenemist vältida higistamine, sest higi aurumine keha pinnalt jahutab organismi. Külma korral aga veresooned ahenevad, nahas voolab vähem verd ja soojuse äraandmine väheneb.\n",
      "\n",
      "Nahk on meeleelund. Naha tunderakkudega tajume valu, sooja, külma ja puuteärritusi.\n",
      "\n",
      "Nahas sünteesitakse mõningaid ühendeid, millest kõige olulisemad on D-vitamiin ja melaniin. Päikesekiirgus ergutab nahka tootma pigment melaniini, mis kaitseb organismi liigse ultraviolettkiirguse eest.\n",
      "\n",
      "Nahk on ka erituselund. Kui inimene higistab, eritub läbi naha mõningaid jääkaineid, peamiselt vett ja soolasid.\n",
      "\n",
      "Täiskasvanud inimese nahk kaalub 4–5 kg ja katab umbes 1,5 m2 suuruse pinna. Kui arvestada juurde ka nahaaluskude, kaalub nahk ligikaudu 10 kg ja on meie keha suurim elund. Nahk on ligikaudu 1–2 mm paksune (nahaaluskoeta), kõige õhem on see silmade ümbruses ja kõige paksem (u 4 mm) jalataldadel.\n",
      "\n",
      "rakk – organismi väikseim ehitusosa, millel on kõik elu tunnused\n",
      "\n",
      "kude – ühetaolise ehituse, talitluse ja päritoluga rakkude rühm\n",
      "\n",
      "elund ehk organ – mitmest koest koosnev organismi osa, millel on kindel asend, ehitus ja ülesanne\n",
      "\n",
      "elundkond – ühiseid ülesandeid täitvate elundite süsteem\n",
      "\n"
     ]
    }
   ],
   "source": [
    "filename = \"biology_estonian/1.1 Inimese keha ldehitus.txt\"\n",
    "\n",
    "with open(filename, encoding=\"utf-8\") as fname:\n",
    "#     print (fname.readlines())\n",
    "    final_sentences = []\n",
    "    output = fname.readlines()\n",
    "#     output = output.replace('\\xad', '')\n",
    "    for line in output:\n",
    "        #print (line.split())\n",
    "        if len(line.split())>4 : \n",
    "            final_sentences.append(line)\n",
    "            print (line)\n",
    "            \n",
    "# from pathlib import Path\n",
    "# for filename in Path('opiq').glob('**/*.txt'):\n",
    "#     print(filename)\n"
   ]
  },
  {
   "cell_type": "code",
   "execution_count": 16,
   "metadata": {},
   "outputs": [
    {
     "name": "stdout",
     "output_type": "stream",
     "text": [
      "Collecting gensim\n",
      "\u001b[?25l  Downloading https://files.pythonhosted.org/packages/40/3d/89b27573f56abcd1b8c9598b240f53c45a3c79aa0924a24588e99716043b/gensim-3.8.0-cp36-cp36m-manylinux1_x86_64.whl (24.2MB)\n",
      "\u001b[K    100% |████████████████████████████████| 24.2MB 2.2MB/s eta 0:00:01\n",
      "\u001b[?25hRequirement already satisfied: numpy>=1.11.3 in /home/ec2-user/anaconda3/envs/tensorflow_p36/lib/python3.6/site-packages (from gensim) (1.15.4)\n",
      "Collecting smart-open>=1.7.0 (from gensim)\n",
      "\u001b[?25l  Downloading https://files.pythonhosted.org/packages/37/c0/25d19badc495428dec6a4bf7782de617ee0246a9211af75b302a2681dea7/smart_open-1.8.4.tar.gz (63kB)\n",
      "\u001b[K    100% |████████████████████████████████| 71kB 33.1MB/s ta 0:00:01\n",
      "\u001b[?25hRequirement already satisfied: scipy>=0.18.1 in /home/ec2-user/anaconda3/envs/tensorflow_p36/lib/python3.6/site-packages (from gensim) (1.1.0)\n",
      "Requirement already satisfied: six>=1.5.0 in /home/ec2-user/anaconda3/envs/tensorflow_p36/lib/python3.6/site-packages (from gensim) (1.11.0)\n",
      "Requirement already satisfied: boto>=2.32 in /home/ec2-user/anaconda3/envs/tensorflow_p36/lib/python3.6/site-packages (from smart-open>=1.7.0->gensim) (2.48.0)\n",
      "Requirement already satisfied: requests in /home/ec2-user/anaconda3/envs/tensorflow_p36/lib/python3.6/site-packages (from smart-open>=1.7.0->gensim) (2.20.1)\n",
      "Requirement already satisfied: boto3 in /home/ec2-user/anaconda3/envs/tensorflow_p36/lib/python3.6/site-packages (from smart-open>=1.7.0->gensim) (1.9.139)\n",
      "Requirement already satisfied: chardet<3.1.0,>=3.0.2 in /home/ec2-user/anaconda3/envs/tensorflow_p36/lib/python3.6/site-packages (from requests->smart-open>=1.7.0->gensim) (3.0.4)\n",
      "Requirement already satisfied: idna<2.8,>=2.5 in /home/ec2-user/anaconda3/envs/tensorflow_p36/lib/python3.6/site-packages (from requests->smart-open>=1.7.0->gensim) (2.6)\n",
      "Requirement already satisfied: urllib3<1.25,>=1.21.1 in /home/ec2-user/anaconda3/envs/tensorflow_p36/lib/python3.6/site-packages (from requests->smart-open>=1.7.0->gensim) (1.23)\n",
      "Requirement already satisfied: certifi>=2017.4.17 in /home/ec2-user/anaconda3/envs/tensorflow_p36/lib/python3.6/site-packages (from requests->smart-open>=1.7.0->gensim) (2019.3.9)\n",
      "Requirement already satisfied: botocore<1.13.0,>=1.12.139 in /home/ec2-user/anaconda3/envs/tensorflow_p36/lib/python3.6/site-packages (from boto3->smart-open>=1.7.0->gensim) (1.12.139)\n",
      "Requirement already satisfied: s3transfer<0.3.0,>=0.2.0 in /home/ec2-user/anaconda3/envs/tensorflow_p36/lib/python3.6/site-packages (from boto3->smart-open>=1.7.0->gensim) (0.2.0)\n",
      "Requirement already satisfied: jmespath<1.0.0,>=0.7.1 in /home/ec2-user/anaconda3/envs/tensorflow_p36/lib/python3.6/site-packages (from boto3->smart-open>=1.7.0->gensim) (0.9.4)\n",
      "Requirement already satisfied: python-dateutil<3.0.0,>=2.1; python_version >= \"2.7\" in /home/ec2-user/anaconda3/envs/tensorflow_p36/lib/python3.6/site-packages (from botocore<1.13.0,>=1.12.139->boto3->smart-open>=1.7.0->gensim) (2.7.3)\n",
      "Requirement already satisfied: docutils>=0.10 in /home/ec2-user/anaconda3/envs/tensorflow_p36/lib/python3.6/site-packages (from botocore<1.13.0,>=1.12.139->boto3->smart-open>=1.7.0->gensim) (0.14)\n",
      "Building wheels for collected packages: smart-open\n",
      "  Running setup.py bdist_wheel for smart-open ... \u001b[?25ldone\n",
      "\u001b[?25h  Stored in directory: /home/ec2-user/.cache/pip/wheels/5f/ea/fb/5b1a947b369724063b2617011f1540c44eb00e28c3d2ca8692\n",
      "Successfully built smart-open\n",
      "Installing collected packages: smart-open, gensim\n",
      "Successfully installed gensim-3.8.0 smart-open-1.8.4\n",
      "\u001b[33mYou are using pip version 10.0.1, however version 19.1.1 is available.\n",
      "You should consider upgrading via the 'pip install --upgrade pip' command.\u001b[0m\n"
     ]
    }
   ],
   "source": [
    "!pip install gensim\n"
   ]
  },
  {
   "cell_type": "code",
   "execution_count": 97,
   "metadata": {},
   "outputs": [],
   "source": [
    "import gensim\n",
    "import os\n",
    "from pathlib import Path\n",
    "\n",
    "class MySentences(object):\n",
    "    def __init__(self, dirname):\n",
    "        self.dirname = dirname\n",
    "        \n",
    "    def preprocess_line(self,sent):\n",
    "        preprocessed_text = gensim.utils.simple_preprocess (sent,min_len=2, max_len=75)\n",
    "        if len(sent.split())>4 :\n",
    "            return True, preprocessed_text\n",
    "        else:\n",
    "            return False,preprocessed_text\n",
    " \n",
    "    def __iter__(self):\n",
    "        for filename in Path('opiq').glob('**/*.txt'):\n",
    "            for line in open(filename,encoding=\"utf-8\"):\n",
    "                continue_ahead, out = self.preprocess_line(line)\n",
    "                if continue_ahead:\n",
    "                    yield out\n",
    "\n",
    "#         for fname in os.listdir(self.dirname):\n",
    "#             for line in open(os.path.join(self.dirname, fname)):\n",
    "            \n"
   ]
  },
  {
   "cell_type": "code",
   "execution_count": 127,
   "metadata": {},
   "outputs": [
    {
     "name": "stdout",
     "output_type": "stream",
     "text": [
      "corpus count 118314\n",
      "time elapsed  358.7456407546997\n"
     ]
    }
   ],
   "source": [
    "import multiprocessing\n",
    "import time\n",
    "cores = multiprocessing.cpu_count()\n",
    "# sentences = MySentences('biology_estonian')\n",
    "sentences = MySentences('opiq')\n",
    "#sg=1 for skipgram\n",
    "model = gensim.models.Word2Vec (size=100,sg=1, window=6,min_count=1, workers=cores-1)\n",
    "model.build_vocab(sentences,progress_per=1000)\n",
    "print (\"corpus count\",model.corpus_count)\n",
    "start = time.time()\n",
    "model.train(sentences, total_examples=model.corpus_count, epochs=10, report_delay=1)\n",
    "end = time.time()\n",
    "print (\"time elapsed \",end-start)\n"
   ]
  },
  {
   "cell_type": "code",
   "execution_count": 134,
   "metadata": {},
   "outputs": [],
   "source": [
    "model.wv.save_word2vec_format('word2vec_estonian.vec', binary=False)"
   ]
  },
  {
   "cell_type": "code",
   "execution_count": 131,
   "metadata": {},
   "outputs": [
    {
     "data": {
      "text/plain": [
       "[('teadus', 0.7560889720916748),\n",
       " ('astronoomia', 0.7540688514709473),\n",
       " ('täheteadus', 0.7443965673446655),\n",
       " ('keeleuuendus', 0.725255012512207),\n",
       " ('geograafial', 0.719343364238739),\n",
       " ('uuemat', 0.7162987589836121),\n",
       " ('väärtustati', 0.7150509357452393),\n",
       " ('üldisemas', 0.7146511077880859),\n",
       " ('geograafias', 0.7136319875717163),\n",
       " ('normeeritud', 0.7124326825141907),\n",
       " ('massikultuur', 0.7112048864364624),\n",
       " ('normitud', 0.7102092504501343),\n",
       " ('dialektika', 0.7096458673477173),\n",
       " ('jätkusuutlik', 0.7086988687515259),\n",
       " ('tundmaõppimisel', 0.7082630395889282),\n",
       " ('üldisemaid', 0.7079835534095764),\n",
       " ('mõjudega', 0.7060316801071167),\n",
       " ('wastse', 0.7046616673469543),\n",
       " ('kõnekeel', 0.7023388743400574),\n",
       " ('hilisemat', 0.7005041837692261)]"
      ]
     },
     "execution_count": 131,
     "metadata": {},
     "output_type": "execute_result"
    }
   ],
   "source": [
    "\n",
    "model.wv.most_similar(\"geograafia\",topn=20)\n",
    "\n"
   ]
  },
  {
   "cell_type": "code",
   "execution_count": 124,
   "metadata": {},
   "outputs": [
    {
     "name": "stdout",
     "output_type": "stream",
     "text": [
      "Praeguseks on Kambodža „surmaväljadelt” leitud üle 20 000 ühishaua.\n",
      "\n",
      "\n",
      " ['praeguseks', 'on', 'kambodža', 'surmaväljadelt', 'leitud', 'üle', 'ühishaua']\n"
     ]
    }
   ],
   "source": [
    "\n",
    "temp_sentence = \"Praeguseks on Kambodža „surmaväljadelt” leitud üle 20 000 ühishaua.\"\n",
    "out = gensim.utils.simple_preprocess (temp_sentence,min_len=1, max_len=75)\n",
    "print (temp_sentence)\n",
    "print (\"\\n\\n\",out)\n",
    "\n",
    "\n",
    "\n"
   ]
  },
  {
   "cell_type": "code",
   "execution_count": null,
   "metadata": {},
   "outputs": [],
   "source": [
    "#CBOW for euroopat\n",
    "[('lähis', 0.8725696206092834),\n",
    " ('läänes', 0.8699440360069275),\n",
    " ('idas', 0.8683851361274719),\n",
    " ('euroopast', 0.8674686551094055),\n",
    " ('vahemere', 0.8654263019561768),\n",
    " ('venemaal', 0.8636395931243896),\n",
    " ('pakistani', 0.8623100519180298),\n",
    " ('saksamaal', 0.8476424217224121),\n",
    " ('hiinas', 0.846307098865509),\n",
    " ('prantsusmaal', 0.845444917678833),\n",
    " ('rootsis', 0.8423452973365784),\n",
    " ('india', 0.841312825679779),\n",
    " ('aasias', 0.8398715257644653),\n",
    " ('euroopas', 0.8383439779281616),\n",
    " ('egiptuses', 0.8381216526031494),\n",
    " ('itaalias', 0.8375835418701172),\n",
    " ('aasiast', 0.836470901966095),\n",
    " ('kreekas', 0.8362398147583008),\n",
    " ('ukrainas', 0.8360390663146973),\n",
    " ('eestit', 0.8360057473182678)]\n",
    "#skipgram for europaat\n",
    "[('kreekat', 0.8008898496627808),\n",
    " ('ameerikat', 0.7982222437858582),\n",
    " ('läänemerd', 0.7923094034194946),\n",
    " ('aasiat', 0.789021372795105),\n",
    " ('hiinat', 0.7790817022323608),\n",
    " ('segadused', 0.7765699625015259),\n",
    " ('katkuepideemia', 0.7746660113334656),\n",
    " ('laastanud', 0.772816002368927),\n",
    " ('suurbritanniat', 0.7670050859451294),\n",
    " ('kaukaasiast', 0.7665465474128723),\n",
    " ('balkani', 0.7654958963394165),\n",
    " ('kaubateed', 0.7650608420372009),\n",
    " ('jaapanit', 0.7647335529327393),\n",
    " ('roomat', 0.7609177827835083),\n",
    " ('soomet', 0.7587058544158936),\n",
    " ('idakalda', 0.7563748359680176),\n",
    " ('aafrikat', 0.7516854405403137),\n",
    " ('väljaränne', 0.7514094114303589),\n",
    " ('läänepoolsete', 0.7509536743164062),\n",
    " ('idaosa', 0.7505488395690918)]"
   ]
  }
 ],
 "metadata": {
  "kernelspec": {
   "display_name": "conda_tensorflow_p36",
   "language": "python",
   "name": "conda_tensorflow_p36"
  },
  "language_info": {
   "codemirror_mode": {
    "name": "ipython",
    "version": 3
   },
   "file_extension": ".py",
   "mimetype": "text/x-python",
   "name": "python",
   "nbconvert_exporter": "python",
   "pygments_lexer": "ipython3",
   "version": "3.6.5"
  }
 },
 "nbformat": 4,
 "nbformat_minor": 2
}
